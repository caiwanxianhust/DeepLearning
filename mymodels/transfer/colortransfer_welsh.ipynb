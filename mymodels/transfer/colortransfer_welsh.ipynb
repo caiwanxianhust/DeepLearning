{
 "cells": [
  {
   "cell_type": "markdown",
   "metadata": {},
   "source": [
    "## welsh色彩迁移算法\n",
    "\n",
    "#### welsh的流程如下：\n",
    "\n",
    "- 1.将目标图像和样本图像转换到Lab空间；\n",
    "\n",
    "- 2.对目标图像和样本图像进行亮度重映射，保证后续的像素匹配正确进行；\n",
    "\n",
    "- 3.从参考图片中选择一部分样本点，将这些样本点的像素亮度值L和领域亮度值σ得方差保存起来，作为权值W，W = L/2 + σ/2；\n",
    "\n",
    "- 4.对目标图像进行逐像素扫描，对每个像素，计算其权值W，即为亮度值L和领域亮度值σ之和然后除以2，然后在第三步得到的样本点钟找到与其权值最接近的参考点，并将改点的a通道和b通道的值赋给目标图像的像素。\n",
    "\n",
    "- 5.将图像从Lab空间转化到RGB空间。\n"
   ]
  },
  {
   "cell_type": "markdown",
   "metadata": {},
   "source": [
    "对参考图片创建一个模型，选取一定量的参考点，对每个参考点，记录其权值W"
   ]
  },
  {
   "cell_type": "code",
   "execution_count": null,
   "metadata": {},
   "outputs": [],
   "source": []
  }
 ],
 "metadata": {
  "kernelspec": {
   "display_name": "Python 3",
   "language": "python",
   "name": "python3"
  },
  "language_info": {
   "codemirror_mode": {
    "name": "ipython",
    "version": 3
   },
   "file_extension": ".py",
   "mimetype": "text/x-python",
   "name": "python",
   "nbconvert_exporter": "python",
   "pygments_lexer": "ipython3",
   "version": "3.5.2"
  }
 },
 "nbformat": 4,
 "nbformat_minor": 2
}
