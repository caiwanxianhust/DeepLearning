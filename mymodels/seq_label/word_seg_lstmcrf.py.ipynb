{
 "cells": [
  {
   "cell_type": "code",
   "execution_count": 1,
   "metadata": {},
   "outputs": [],
   "source": [
    "import re\n",
    "import numpy as np\n",
    "import random\n",
    "import tensorflow as tf\n",
    "from tensorflow import keras\n",
    "from word_seg_model import BiLSTMCRF\n",
    "import tensorflow.keras.backend as K \n",
    "from tqdm import tqdm"
   ]
  },
  {
   "cell_type": "code",
   "execution_count": 2,
   "metadata": {},
   "outputs": [],
   "source": [
    "with open('../datasets_eg/icwb2-data/training/msr_training.txt', \"r\", encoding=\"gbk\") as f:\n",
    "    sents = f.readlines()\n",
    "sents = [line.strip().split(\" \") for line in sents]  # 词之间以空格隔开\n",
    "sents = [[w for w in sent if w] for sent in sents]  # 去掉空字符串\n",
    "random.shuffle(sents)\n",
    "\n",
    "chars = {} # 统计字表\n",
    "for sent in sents:\n",
    "    for c in sent:\n",
    "        chars[c] = chars.get(c, 0) + 1"
   ]
  },
  {
   "cell_type": "code",
   "execution_count": 3,
   "metadata": {},
   "outputs": [],
   "source": [
    "min_count = 2 # 过滤低频字\n",
    "chars = {i:j for i,j in chars.items() if j >= min_count} # 过滤低频字\n",
    "\n",
    "id2char = {i+2:j for i,j in enumerate(chars)} # id到字的映射, 0:pad, 1:unk\n",
    "id2char[0] = \"pad\"\n",
    "id2char[1] = \"unk\"\n",
    "char2id = {j:i for i,j in id2char.items()} # 字到id的映射\n",
    "\n",
    "id2tag = {0:'s', 1:'b', 2:'m', 3:'e'} # 标签（sbme）与id之间的映射\n",
    "tag2id = {j:i for i,j in id2tag.items()}\n",
    "\n",
    "train_sents = sents[:-5000] # 留下5000个句子做验证，剩下的都用来训练\n",
    "valid_sents = sents[-5000:]"
   ]
  },
  {
   "cell_type": "code",
   "execution_count": 4,
   "metadata": {},
   "outputs": [],
   "source": [
    "del sents\n",
    "del chars"
   ]
  },
  {
   "cell_type": "code",
   "execution_count": 5,
   "metadata": {},
   "outputs": [],
   "source": [
    "def padding(X, pad):\n",
    "    maxlen = max([len(x) for x in X]) # 找出最大字数\n",
    "    X = [x + [pad] * (maxlen-len(x)) for x in X] # 不足则补pad\n",
    "    return X"
   ]
  },
  {
   "cell_type": "code",
   "execution_count": 6,
   "metadata": {},
   "outputs": [],
   "source": [
    "batch_size = 64\n",
    "def data_generator(data): # 定义数据生成器\n",
    "    while True:\n",
    "        X,Y = [],[]\n",
    "        for i,s in enumerate(data): # 遍历每个句子\n",
    "            # sx:字id; sy:字标签\n",
    "            sx,sy = [],[]\n",
    "            for w in s: # 遍历句子中的每个词\n",
    "                sx.extend([char2id.get(c, 1) for c in w]) # 遍历词中的每个字\n",
    "                if len(w) == 1:\n",
    "                    sy.append(0) # 单字词的标签\n",
    "                elif len(w) == 2:\n",
    "                    sy.extend([1,3]) # 双字词的标签\n",
    "                else:\n",
    "                    sy.extend([1] + [2]*(len(w)-2) + [3]) # 多于两字的词的标签\n",
    "            X.append(sx)\n",
    "            Y.append(sy)\n",
    "            if len(X) == batch_size or i == len(train_sents)-1: # 如果达到一个batch\n",
    "                X = padding(X, pad=0) # 不足则补零\n",
    "                Y = padding(Y, pad=4) # 不足则补第五个标签\n",
    "#                 print(len(X[0]), len(Y[0]))\n",
    "                yield tf.cast(X, tf.int32), tf.one_hot(Y, 5)\n",
    "                X,Y = [],[]"
   ]
  },
  {
   "cell_type": "code",
   "execution_count": 7,
   "metadata": {},
   "outputs": [],
   "source": [
    "embedding_size = 128\n",
    "vocab_size = len(char2id)\n",
    "nlabels = len(tag2id) + 1\n",
    "num_layers = 3"
   ]
  },
  {
   "cell_type": "code",
   "execution_count": 8,
   "metadata": {},
   "outputs": [],
   "source": [
    "bilstmcrf = BiLSTMCRF(vocab_size, embedding_size, nlabels,  num_layers)"
   ]
  },
  {
   "cell_type": "code",
   "execution_count": 9,
   "metadata": {
    "scrolled": true
   },
   "outputs": [
    {
     "name": "stdout",
     "output_type": "stream",
     "text": [
      "Model: \"model\"\n",
      "_________________________________________________________________\n",
      "Layer (type)                 Output Shape              Param #   \n",
      "=================================================================\n",
      "input (InputLayer)           [(None, None)]            0         \n",
      "_________________________________________________________________\n",
      "embedding (Embedding)        (None, None, 128)         5984000   \n",
      "_________________________________________________________________\n",
      "bidirectional (Bidirectional (None, None, 256)         263168    \n",
      "_________________________________________________________________\n",
      "bidirectional_1 (Bidirection (None, None, 256)         394240    \n",
      "_________________________________________________________________\n",
      "bidirectional_2 (Bidirection (None, None, 256)         394240    \n",
      "_________________________________________________________________\n",
      "dense (Dense)                (None, None, 5)           1285      \n",
      "_________________________________________________________________\n",
      "crf (CRF)                    (None, None, 5)           16        \n",
      "=================================================================\n",
      "Total params: 7,036,949\n",
      "Trainable params: 7,036,949\n",
      "Non-trainable params: 0\n",
      "_________________________________________________________________\n"
     ]
    }
   ],
   "source": [
    "bilstmcrf.model.summary()"
   ]
  },
  {
   "cell_type": "code",
   "execution_count": 10,
   "metadata": {},
   "outputs": [
    {
     "data": {
      "image/png": "[encoded data removed]",
      "text/plain": [
       "<IPython.core.display.Image object>"
      ]
     },
     "execution_count": 10,
     "metadata": {},
     "output_type": "execute_result"
    }
   ],
   "source": [
    "keras.utils.plot_model(bilstmcrf.model, \"../model_img/word_seg_bilstmcrf.png\", \n",
    "                       show_layer_names=True, show_shapes=True)"
   ]
  },
  {
   "cell_type": "code",
   "execution_count": 11,
   "metadata": {},
   "outputs": [],
   "source": [
    "# a = sorted(d.items(), key=lambda x: x[1], reverse=True) 字典按值排序\n",
    "\n",
    "def max_in_dict(d): # 定义一个求字典中最大值的函数\n",
    "    key, value = \"\", -1e-9\n",
    "    for i,j in d.items():\n",
    "        if j > value:\n",
    "            key,value = i,j\n",
    "    return key,value"
   ]
  },
  {
   "cell_type": "code",
   "execution_count": 12,
   "metadata": {},
   "outputs": [],
   "source": [
    "def viterbi(nodes, trans): # viterbi算法，跟前面的HMM一致\n",
    "    # nodes: dict in list, key:sbme, value:proba\n",
    "    paths = nodes[0] # 初始化起始路径\n",
    "    for l in range(1, len(nodes)): # 遍历后面的节点\n",
    "        paths_old, paths = paths, {}\n",
    "        for n, ns in nodes[l].items(): # 当前时刻的所有节点\n",
    "            max_path, max_score = '', -1e10\n",
    "            for p, ps in paths_old.items(): # 截止至前一时刻的最优路径集合\n",
    "                # ns: 当前节点的分数\n",
    "                # ps: 截止至前一时刻最优路径的分数\n",
    "                # tran: 转移概率\n",
    "                score = ns + ps + trans[p[-1] + n] # 计算新分数\n",
    "                if score > max_score: # 如果新分数大于已有的最大分\n",
    "                    max_path, max_score = p + n, score # 更新路径\n",
    "            paths[max_path] = max_score # 储存到当前时刻所有节点的最优路径\n",
    "    return max_in_dict(paths)"
   ]
  },
  {
   "cell_type": "code",
   "execution_count": 13,
   "metadata": {},
   "outputs": [],
   "source": [
    "def cut(s, model, trans): # 分词函数，也跟前面的HMM基本一致\n",
    "    if not s: # 空字符直接返回\n",
    "        return []\n",
    "    # 字序列转化为id序列。注意，经过我们前面对语料的预处理，字符集是没有空格的，\n",
    "    # 所以这里简单将空格的id跟句号的id等同起来\n",
    "    sent_ids = np.array([[char2id.get(c, 0) if c != ' ' else char2id['。'] for c in s]])\n",
    "    probas = model.predict(sent_ids)[0] # 模型预测, [seq_len, num_labels]\n",
    "    nodes = [dict(zip('sbme', i)) for i in probas[:, :4]] # 只取前4个,seq_len个字典，每个字典4个键值，键是标注，值是概率\n",
    "    nodes[0] = {i:j for i,j in nodes[0].items() if i in 'bs'} # 首字标签只能是b或s，只保留b,s两个键\n",
    "    nodes[-1] = {i:j for i,j in nodes[-1].items() if i in 'es'} # 末字标签只能是e或s，只保留e,s两个键\n",
    "    tags = viterbi(nodes, trans)[0]\n",
    "    result = [s[0]]\n",
    "    for i,j in zip(s[1:], tags[1:]):\n",
    "        if j in 'bs': # 词的开始\n",
    "            result.append(i)\n",
    "        else: # 接着原来的词\n",
    "            result[-1] += i\n",
    "    return result"
   ]
  },
  {
   "cell_type": "code",
   "execution_count": 14,
   "metadata": {},
   "outputs": [],
   "source": [
    "def convert_to_dict(trans_mat, tag2id):\n",
    "    # 将矩阵表示的转移概率，转化为键值表示，如\"sb\":0.7，表示s到b的概率为0.7\n",
    "    trans = {}\n",
    "    for i in 'sbme':\n",
    "        for j in 'sbme':\n",
    "            trans[i+j] = trans_mat[tag2id[i], tag2id[j]]\n",
    "    return trans"
   ]
  },
  {
   "cell_type": "code",
   "execution_count": 18,
   "metadata": {},
   "outputs": [],
   "source": [
    "# 自定义Callback类\n",
    "class Evaluate(keras.callbacks.Callback):\n",
    "    def __init__(self, tag2id):\n",
    "        self.highest = 0.\n",
    "        self.tag2id = tag2id\n",
    "        \n",
    "    def on_epoch_end(self, epoch, logs=None):\n",
    "        trans_mat = self.model.get_weights()[-1][:4,:4] # 从训练模型中取出最新得到的转移矩阵\n",
    "        # 将4*4矩阵表示的转移概率转化为字典型\n",
    "        trans = convert_to_dict(trans_mat, self.tag2id)\n",
    "        right = 0.\n",
    "        total = 0.\n",
    "        for s in random.sample(valid_sents, 100):\n",
    "            result = cut(''.join(s), self.model, trans)\n",
    "            total += len(set(s))\n",
    "            right += len(set(s) & set(result)) # 直接将词集的交集作为正确数。该指标比较简单，\n",
    "                                               # 也许会导致估计偏高。读者可以考虑自定义指标\n",
    "        acc = right / total\n",
    "        if acc > self.highest:\n",
    "            self.highest = acc\n",
    "            print(\"model improved\")\n",
    "            self.model.save_weights(\"../model_file/bilstmcrf_best_model.weights\")\n",
    "        print('val acc: {}, highest: {}, val loss: {}'.format(acc, self.highest, logs[\"val_loss\"]))"
   ]
  },
  {
   "cell_type": "code",
   "execution_count": null,
   "metadata": {
    "scrolled": false
   },
   "outputs": [
    {
     "name": "stdout",
     "output_type": "stream",
     "text": [
      "Epoch 1/20\n"
     ]
    },
    {
     "name": "stderr",
     "output_type": "stream",
     "text": [
      "W1206 03:28:23.628868  6884 def_function.py:474] 5 out of the last 17 calls to <function _make_execution_function.<locals>.distributed_function at 0x00000221CAA4D510> triggered tf.function retracing. Tracing is expensive and the excessive number of tracings is likely due to passing python objects instead of tensors. Also, tf.function has experimental_relax_shapes=True option that relaxes argument shapes that can avoid unnecessary retracing. Please refer to https://www.tensorflow.org/beta/tutorials/eager/tf_function#python_or_tensor_args and https://www.tensorflow.org/api_docs/python/tf/function for more details.\n",
      "W1206 03:28:41.169236  6884 def_function.py:474] 5 out of the last 18 calls to <function _make_execution_function.<locals>.distributed_function at 0x00000221CAA4D510> triggered tf.function retracing. Tracing is expensive and the excessive number of tracings is likely due to passing python objects instead of tensors. Also, tf.function has experimental_relax_shapes=True option that relaxes argument shapes that can avoid unnecessary retracing. Please refer to https://www.tensorflow.org/beta/tutorials/eager/tf_function#python_or_tensor_args and https://www.tensorflow.org/api_docs/python/tf/function for more details.\n"
     ]
    },
    {
     "name": "stdout",
     "output_type": "stream",
     "text": [
      "model improved\n",
      "val acc: 0.8428196147110333, highest: 0.8428196147110333, val loss: 10.904414412975312\n",
      "500/500 - 22693s - loss: 12.5794 - accuracy: 0.8642 - val_loss: 10.9044 - val_accuracy: 0.8774\n",
      "Epoch 2/20\n",
      "model improved\n",
      "val acc: 0.862786745964316, highest: 0.862786745964316, val loss: 8.5077054977417\n",
      "500/500 - 36441s - loss: 9.8735 - accuracy: 0.8771 - val_loss: 8.5077 - val_accuracy: 0.8831\n",
      "Epoch 3/20\n",
      "model improved\n",
      "val acc: 0.862852334875894, highest: 0.862852334875894, val loss: 7.073852713108063\n",
      "500/500 - 51486s - loss: 7.8866 - accuracy: 0.8866 - val_loss: 7.0739 - val_accuracy: 0.8852\n",
      "Epoch 4/20\n"
     ]
    }
   ],
   "source": [
    "evaluator = Evaluate(tag2id) # 建立Callback类\n",
    "bilstmcrf.model.fit_generator(data_generator(train_sents), steps_per_epoch=500,\n",
    "                           validation_data=data_generator(valid_sents), validation_steps=200,\n",
    "                           epochs=20, \n",
    "                           verbose=2, \n",
    "                           callbacks=[evaluator]\n",
    "                          ) # 训练并将evaluator加入到训练过程"
   ]
  },
  {
   "cell_type": "code",
   "execution_count": null,
   "metadata": {},
   "outputs": [],
   "source": [
    "text_sent = \"其实在没有体验这款产品之前，上述的几个智慧屏特性给我的感觉与智能电视没有太大区别，无非就是人机交互与家居互联上有一些提升。\"\n",
    "trans_mat = cnncrf.model.get_weights()[-1][:4,:4] # 从训练模型中取出最新得到的转移矩阵\n",
    "# 将4*4矩阵表示的转移概率转化为字典型\n",
    "trans = convert_to_dict(trans_mat, tag2id)\n",
    "result = cut(''.join(text_sent), cnncrf.model, trans)\n",
    "print(result)"
   ]
  },
  {
   "cell_type": "code",
   "execution_count": null,
   "metadata": {},
   "outputs": [],
   "source": [
    "trans_mat = cnncrf.model.get_weights()[-1][:4,:4] # 从训练模型中取出最新得到的转移矩阵\n",
    "# 将4*4矩阵表示的转移概率转化为字典型\n",
    "trans = convert_to_dict(trans_mat, tag2id)\n",
    "right = 0.\n",
    "total = 0.\n",
    "for s in valid_sents:\n",
    "    result = cut(''.join(s), cnncrf.model, trans)\n",
    "    total += len(set(s))\n",
    "    right += len(set(s) & set(result)) # 直接将词集的交集作为正确数。该指标比较简单，\n",
    "                                       # 也许会导致估计偏高。读者可以考虑自定义指标\n",
    "acc = right / total\n",
    "print(acc)"
   ]
  }
 ],
 "metadata": {
  "kernelspec": {
   "display_name": "Python 3",
   "language": "python",
   "name": "python3"
  },
  "language_info": {
   "codemirror_mode": {
    "name": "ipython",
    "version": 3
   },
   "file_extension": ".py",
   "mimetype": "text/x-python",
   "name": "python",
   "nbconvert_exporter": "python",
   "pygments_lexer": "ipython3",
   "version": "3.5.2"
  }
 },
 "nbformat": 4,
 "nbformat_minor": 2
}
